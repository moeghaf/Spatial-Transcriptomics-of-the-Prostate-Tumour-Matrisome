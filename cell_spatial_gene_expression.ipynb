{
 "cells": [
  {
   "attachments": {},
   "cell_type": "markdown",
   "metadata": {},
   "source": [
    "# Overview \n",
    "\n",
    "Results from histology annotations and cell2location shall be used here to compared specific cell type expression in malignant and non-malignant regions. The genes identified via spatial matrisome clustering \n",
    "shall be the focus. "
   ]
  },
  {
   "attachments": {},
   "cell_type": "markdown",
   "metadata": {},
   "source": [
    "## Imports "
   ]
  },
  {
   "cell_type": "code",
   "execution_count": 305,
   "metadata": {},
   "outputs": [],
   "source": [
    "import pandas as pd \n",
    "import numpy as np \n",
    "import scanpy as sc \n",
    "import matplotlib.pyplot as plt\n",
    "from statannotations.Annotator import Annotator\n",
    "import seaborn as sns\n",
    "import os "
   ]
  },
  {
   "attachments": {},
   "cell_type": "markdown",
   "metadata": {},
   "source": [
    "## Helper functions "
   ]
  },
  {
   "cell_type": "code",
   "execution_count": 64,
   "metadata": {},
   "outputs": [],
   "source": [
    "def load_data(): \n",
    "    ''' Loads binarized histopathologist annot and cell2location processed adatas '''\n",
    "\n",
    "    # Load original histologist markers (higher accuracy)\n",
    "    hist_labels = pd.read_csv('C:/Users/MG/OneDrive - The University of Manchester/Documents/GitHub/Spatial-Transcriptomics-of-the-Prostate-Tumour-Matrisome/Pathology_unlabeled.csv')\n",
    "    mask = hist_labels['Pathology'].isna()\n",
    "    hist_labels = hist_labels['Pathology'][~mask]\n",
    "\n",
    "    # Convert annotations to binary \n",
    "    hist_labels = hist_labels.replace(['Blood vessel', 'Fibro-muscular tissue', 'Fibrous tissue', 'Immune Cells', 'Normal gland',  'Nerve'], 'Non-malignant')\n",
    "    hist_labels = hist_labels.replace('Invasive carcinoma', 'Malignant')\n",
    "    hist_labels = hist_labels.reset_index(drop=True).values\n",
    "\n",
    "    # Load processed cell2location data\n",
    "    c2l_adata = sc.read_h5ad('C:/Users/MG/OneDrive - The University of Manchester/Documents/GitHub/Spatial-Transcriptomics-of-the-Prostate-Tumour-Matrisome/adata_c2l.h5ad')\n",
    "    c2l_adata = c2l_adata[~mask] # Spots not annotated in histologist annotations ignored \n",
    "\n",
    "    return hist_labels, c2l_adata"
   ]
  },
  {
   "cell_type": "code",
   "execution_count": 335,
   "metadata": {},
   "outputs": [],
   "source": [
    "def compare_ct_gene_exp(ct, gene):\n",
    "    ''' Compares a cell type's gene expression in malignant to non-malignant regions'''\n",
    "\n",
    "    # Cell type expression \n",
    "    ct_all_genes = c2l_adata.layers[ct].toarray()\n",
    "\n",
    "\n",
    "    # Find gene index in columns \n",
    "    genes = np.array(c2l_adata.var.index)\n",
    "    col_mask = genes == [gene]\n",
    "\n",
    "    # Gene expression for specific cell type \n",
    "    ct_gene_exp = ct_all_genes[:, col_mask]\n",
    "\n",
    "    # Combine data in df, format type \n",
    "    data = pd.DataFrame((np.column_stack((ct_gene_exp,hist_labels))), columns=['gene_exp', 'pathology'])\n",
    "    data['gene_exp'] =  data['gene_exp'].astype(float)\n",
    "    data['pathology'] =  data['pathology'].astype(str)\n",
    "\n",
    "    \n",
    "    # Create plot \n",
    "    x = 'pathology'\n",
    "    y = 'gene_exp'\n",
    "    order = ['Malignant', 'Non-malignant']\n",
    "\n",
    "    ax = sns.boxplot(data=data, x=x, y=y, order=order)\n",
    "\n",
    "    pairs=[('Malignant', 'Non-malignant')]\n",
    "\n",
    "    annotator = Annotator(ax, pairs, data=data, x=x, y=y, order=order)\n",
    "\n",
    "    annotator.configure(test='Mann-Whitney')\n",
    "    annotator.apply_and_annotate()\n",
    "\n",
    "    ax.set_title(ct + '_' + gene + '_' + 'expression')\n",
    "\n",
    "    return ax\n",
    "\n",
    "\n"
   ]
  },
  {
   "cell_type": "code",
   "execution_count": 65,
   "metadata": {},
   "outputs": [],
   "source": [
    "# Load processed cell2location adata and histologist annotations \n",
    "hist_labels, c2l_adata = load_data()"
   ]
  },
  {
   "cell_type": "code",
   "execution_count": 349,
   "metadata": {},
   "outputs": [],
   "source": [
    "def plot_ct_gene_exp(): \n",
    "  ''' Plots each cell types gene expression in malignant vs non-malignant '''\n",
    "  genes = ['THSD4', 'ANXA1', 'LMAN1L', 'CRISPLD2', 'FBLN1', 'SPOCK1', 'SPON2', 'LMAN1', 'COL9A2', 'GDF15', 'SERPINA3', 'BGN', 'SCUBE2', 'MUC12', 'MMP7', 'SPARCL1', 'COL6A2', 'COL6A1', 'TIMP2', 'DCN']\n",
    "  celltypes = ['BE', 'CE', 'DC', 'Endothelial', 'Fibroblast', 'HE', 'LE-KLK3', 'LE-KLK4', 'Mac1', 'Mac2', 'Mac-MT1', 'Mast cell', 'Mono', 'NK cell', 'T cell', 'Treg']\n",
    "\n",
    "  os.mkdir('c2l_regional_exp_results')\n",
    "  for ct in celltypes: \n",
    "      os.mkdir('c2l_regional_exp_results/' + ct )\n",
    "    \n",
    "      for g in genes: \n",
    "          ax.clear()\n",
    "          ax = compare_ct_gene_exp(ct, g)\n",
    "          ax.figure.savefig('c2l_regional_exp_results/' + ct + '/' + ct+'_'+g)\n",
    "  return \n",
    "        \n"
   ]
  },
  {
   "cell_type": "code",
   "execution_count": 303,
   "metadata": {},
   "outputs": [],
   "source": []
  }
 ],
 "metadata": {
  "kernelspec": {
   "display_name": "Python 3",
   "language": "python",
   "name": "python3"
  },
  "language_info": {
   "codemirror_mode": {
    "name": "ipython",
    "version": 3
   },
   "file_extension": ".py",
   "mimetype": "text/x-python",
   "name": "python",
   "nbconvert_exporter": "python",
   "pygments_lexer": "ipython3",
   "version": "3.10.6"
  },
  "orig_nbformat": 4,
  "vscode": {
   "interpreter": {
    "hash": "610fa5ae9dbdb4e648149fcb911b8b2dcc3a9fd005f0df4d280ad4efc25469fb"
   }
  }
 },
 "nbformat": 4,
 "nbformat_minor": 2
}
